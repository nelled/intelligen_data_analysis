{
 "cells": [
  {
   "cell_type": "markdown",
   "metadata": {},
   "source": [
    "# Linear Classification\n",
    "\n",
    "In this lab you will implement parts of a linear classification model using the regularized empirical risk minimization principle. By completing this lab and analysing the code, you gain deeper understanding of these type of models, and of gradient descent.\n",
    "\n",
    "\n",
    "## Problem Setting\n",
    "\n",
    "The dataset describes diagnosing of cardiac Single Proton Emission Computed Tomography (SPECT) images. Each of the patients is classified into two categories: normal (1) and abnormal (0). The training data contains 80 SPECT images from which 22 binary features have been extracted. The goal is to predict the label for an unseen test set of 187 tomography images."
   ]
  },
  {
   "cell_type": "code",
   "execution_count": 132,
   "metadata": {
    "collapsed": true,
    "scrolled": true
   },
   "outputs": [
    {
     "name": "stdout",
     "output_type": "stream",
     "text": [
      "The autoreload extension is already loaded. To reload it, use:\n",
      "  %reload_ext autoreload\n"
     ]
    }
   ],
   "source": [
    "import urllib\n",
    "import pandas as pd\n",
    "import numpy as np\n",
    "from sklearn.ensemble import RandomForestClassifier\n",
    "from sklearn.tree import DecisionTreeClassifier\n",
    "from sklearn.metrics import zero_one_loss\n",
    "# for auto-reloading external modules\n",
    "# see http://stackoverflow.com/questions/1907993/autoreload-of-modules-in-ipython\n",
    "%load_ext autoreload\n",
    "%autoreload 2\n",
    "np.set_printoptions(precision=4)\n",
    "\n",
    "urllib.request.urlretrieve(\"http://archive.ics.uci.edu/ml/machine-learning-databases/spect/SPECT.train\", \"SPECT.train\")\n",
    "urllib.request.urlretrieve(\"http://archive.ics.uci.edu/ml/machine-learning-databases/spect/SPECT.test\", \"SPECT.test\")\n",
    "\n",
    "df_train = pd.read_csv('SPECT.train',header=None)\n",
    "df_test = pd.read_csv('SPECT.test',header=None)\n",
    "\n",
    "train = df_train.as_matrix()\n",
    "test = df_test.as_matrix()\n",
    "\n",
    "y_train = train[:,0]\n",
    "X_train = train[:,1:]\n",
    "y_test = test[:,0]\n",
    "X_test = test[:,1:]"
   ]
  },
  {
   "cell_type": "markdown",
   "metadata": {},
   "source": [
    "### Exercise 1\n",
    "\n",
    "Analyze the function learn_reg_ERM(X,y,lambda) which for a given $n\\times m$ data matrix $\\textbf{X}$ and binary class label $\\textbf{y}$ learns and returns a linear model $\\textbf{w}$.\n",
    "The binary class label has to be transformed so that its range is $\\left \\{-1,1 \\right \\}$. \n",
    "The trade-off parameter between the empirical loss and the regularizer is given by $\\lambda > 0$. \n",
    "Try to understand each step of the learning algorithm and comment each line."
   ]
  },
  {
   "cell_type": "code",
   "execution_count": 90,
   "metadata": {},
   "outputs": [],
   "source": [
    "def learn_reg_ERM(X,y,lbda):\n",
    "    # maximum iterations of algorithm\n",
    "    max_iter = 200\n",
    "    # Threshold\n",
    "    e  = 0.001\n",
    "    # Step size/ learning rate\n",
    "    alpha = 1.\n",
    "    # init weights randomly\n",
    "    w = np.random.randn(X.shape[1]);\n",
    "    for k in np.arange(max_iter):\n",
    "        # Compute intermediate values\n",
    "        h = np.dot(X,w)\n",
    "        # Compute hinge loss and gradient\n",
    "        l,lg = loss(h, y)\n",
    "        print('loss: {}'.format(np.mean(l)))\n",
    "        # Compute L2 regularizer and gradient\n",
    "        r,rg = reg(w, lbda)\n",
    "        # Compute dot product of X and hinge loss gradient, add regularizer gradient\n",
    "        # = full gradient\n",
    "        g = np.dot(X.T,lg) + rg \n",
    "        # For all steps except the first\n",
    "        if (k > 0):\n",
    "            # Adjust learning rate\n",
    "            alpha = alpha * (np.dot(g_old.T,g_old))/(np.dot((g_old - g).T,g_old))\n",
    "        # Adjust weights\n",
    "        w = w - alpha * g\n",
    "        # End if < threshold\n",
    "        if (np.linalg.norm(alpha * g) < e):\n",
    "            break\n",
    "        # save old gradient in order to be able to compute change\n",
    "        g_old = g\n",
    "    return w"
   ]
  },
  {
   "cell_type": "markdown",
   "metadata": {},
   "source": [
    "### Exercise 2\n",
    "\n",
    "Fill in the code for the function loss(h,y) which computes the hinge loss and its gradient. \n",
    "This function takes a given vector $\\textbf{y}$ with the true labels $\\in \\left \\{-1,1\\right \\}$ and a vector $\\textbf{h}$ with the function values of the linear model as inputs. The function returns a vector $\\textbf{l}$ with the hinge loss $\\max(0, 1 − y_{i} h_{i})$ and a vector $\\textbf{g}$ with the gradients of the hinge loss at the points $h_i$. The partial derivative of the hinge loss $h_i$ with respect to the $i$-th position of the weight vector $\\textbf{w}$ is $g_{i} = −y x_{i}$ if $l_{i} > 0$, else $g_{i} = 0$)."
   ]
  },
  {
   "cell_type": "code",
   "execution_count": 91,
   "metadata": {
    "collapsed": true
   },
   "outputs": [],
   "source": [
    "def loss(h, y):\n",
    "    a = 1-h*y\n",
    "    l = np.empty(h.shape)\n",
    "    g = np.empty(h.shape)\n",
    "    for i in range(0,a.size):\n",
    "        l[i] = max(0,a[i])\n",
    "        if l[i] > 0:\n",
    "            g[i] = -y[i]\n",
    "        else:\n",
    "            g[i] = 0\n",
    "    return l, g"
   ]
  },
  {
   "cell_type": "code",
   "execution_count": 82,
   "metadata": {},
   "outputs": [
    {
     "data": {
      "text/plain": [
       "(array([0.3575, 1.871 , 2.9722, 0.    , 0.4945, 0.    , 4.3644, 1.0606,\n",
       "        3.4454, 3.0242, 0.997 , 1.9135, 0.8351, 5.2281, 5.0396, 4.4263,\n",
       "        3.7704, 1.4742, 2.2681, 0.    , 1.0326, 0.    , 5.3443, 0.    ,\n",
       "        0.1673, 2.9541, 3.9522, 0.    , 0.2244, 3.0803, 1.    , 1.    ,\n",
       "        3.2127, 5.7837, 4.9177, 2.7745, 3.9306, 3.2592, 1.6041, 2.5888,\n",
       "        1.    , 1.    , 1.    , 1.    , 1.    , 1.    , 1.    , 1.    ,\n",
       "        1.    , 1.    , 1.    , 1.    , 1.    , 1.    , 1.    , 1.    ,\n",
       "        1.    , 1.    , 1.    , 1.    , 1.    , 1.    , 1.    , 1.    ,\n",
       "        1.    , 1.    , 1.    , 1.    , 1.    , 1.    , 1.    , 1.    ,\n",
       "        1.    , 1.    , 1.    , 1.    , 1.    , 1.    , 1.    , 1.    ]),\n",
       " array([-1., -1., -1.,  0., -1.,  0., -1., -1., -1., -1., -1., -1., -1.,\n",
       "        -1., -1., -1., -1., -1., -1.,  0., -1.,  0., -1.,  0., -1., -1.,\n",
       "        -1.,  0., -1., -1., -1., -1., -1., -1., -1., -1., -1., -1., -1.,\n",
       "        -1.,  0.,  0.,  0.,  0.,  0.,  0.,  0.,  0.,  0.,  0.,  0.,  0.,\n",
       "         0.,  0.,  0.,  0.,  0.,  0.,  0.,  0.,  0.,  0.,  0.,  0.,  0.,\n",
       "         0.,  0.,  0.,  0.,  0.,  0.,  0.,  0.,  0.,  0.,  0.,  0.,  0.,\n",
       "         0.,  0.]))"
      ]
     },
     "execution_count": 82,
     "metadata": {},
     "output_type": "execute_result"
    }
   ],
   "source": [
    "X = X_train\n",
    "w = np.random.randn(X.shape[1]);\n",
    "h = np.dot(X,w)\n",
    "loss(h, y_train)"
   ]
  },
  {
   "cell_type": "markdown",
   "metadata": {},
   "source": [
    "### Exercise 3\n",
    "\n",
    "Fill in the code for the function reg(w,lambda) which computes the $\\mathcal{L}_2$-regularizer and the gradient of the regularizer function at point $\\textbf{w}$. \n",
    "\n",
    "\n",
    "$$r = \\frac{\\lambda}{2} \\textbf{w}^{T}\\textbf{w}$$\n",
    "\n",
    "$$g = \\lambda \\textbf{w}$$"
   ]
  },
  {
   "cell_type": "code",
   "execution_count": 92,
   "metadata": {
    "collapsed": true
   },
   "outputs": [],
   "source": [
    "def reg(w, lbda):\n",
    "    r = (lbda/2)*w.T*w\n",
    "    g = lbda*w\n",
    "    return r, g"
   ]
  },
  {
   "cell_type": "markdown",
   "metadata": {},
   "source": [
    "### Exercise 4\n",
    "\n",
    "Fill in the code for the function predict(w,x) which predicts the class label $y$ for a data point $\\textbf{x}$ or a matrix $X$ of data points (row-wise) for a previously trained linear model $\\textbf{w}$. If there is only a data point given, the function is supposed to return a scalar value. If a matrix is given a vector of predictions is supposed to be returned."
   ]
  },
  {
   "cell_type": "code",
   "execution_count": 120,
   "metadata": {
    "collapsed": true
   },
   "outputs": [],
   "source": [
    "def predict(w, X):\n",
    "    preds = np.sign(np.dot(w,X.T))\n",
    "    return preds"
   ]
  },
  {
   "cell_type": "markdown",
   "metadata": {},
   "source": [
    "### Exercise 5\n",
    "\n",
    "#### 5.1 \n",
    "Train a linear model on the training data and classify all 187 test instances afterwards using the function predict. \n",
    "Please note that the given class labels are in the range $\\left \\{0,1 \\right \\}$, however the learning algorithm expects a label in the range of $\\left \\{-1,1 \\right \\}$. Then, compute the accuracy of your trained linear model on both the training and the test data. "
   ]
  },
  {
   "cell_type": "code",
   "execution_count": 107,
   "metadata": {
    "collapsed": true
   },
   "outputs": [
    {
     "data": {
      "text/plain": [
       "array([ 1,  1,  1,  1,  1,  1,  1,  1,  1,  1,  1,  1,  1,  1,  1,  1,  1,\n",
       "        1,  1,  1,  1,  1,  1,  1,  1,  1,  1,  1,  1,  1,  1,  1,  1,  1,\n",
       "        1,  1,  1,  1,  1,  1, -1, -1, -1, -1, -1, -1, -1, -1, -1, -1, -1,\n",
       "       -1, -1, -1, -1, -1, -1, -1, -1, -1, -1, -1, -1, -1, -1, -1, -1, -1,\n",
       "       -1, -1, -1, -1, -1, -1, -1, -1, -1, -1, -1, -1])"
      ]
     },
     "execution_count": 107,
     "metadata": {},
     "output_type": "execute_result"
    }
   ],
   "source": [
    "y_train_old = y_train\n",
    "np.place(y_train, y_train==0, [-1])"
   ]
  },
  {
   "cell_type": "code",
   "execution_count": 118,
   "metadata": {},
   "outputs": [
    {
     "name": "stdout",
     "output_type": "stream",
     "text": [
      "loss: 1.8038747534866482\n",
      "loss: 12.952532195558657\n",
      "loss: 1.3685643672326038\n",
      "loss: 3.5077238219025317\n",
      "loss: 1.3584486173309334\n",
      "loss: 0.7612972161270404\n",
      "loss: 1.6897465778648795\n",
      "loss: 0.7137139707255965\n",
      "loss: 0.6978681183024692\n",
      "loss: 0.7263799952058628\n",
      "loss: 0.7096573905973178\n",
      "loss: 0.6970564490097101\n",
      "loss: 0.69607331479379\n",
      "loss: 0.6966269951413167\n",
      "loss: 0.6940256039890219\n",
      "loss: 0.6940930396272798\n",
      "loss: 0.6936023888726045\n",
      "loss: 0.6937946050921046\n",
      "loss: 0.6935755558601848\n",
      "loss: 0.6937314995511821\n",
      "loss: 0.6941088501326419\n",
      "loss: 0.6934265539415296\n",
      "loss: 0.693320680761117\n",
      "loss: 0.693289356184031\n",
      "loss: 0.693188204721665\n",
      "loss: 0.7149999999999993\n",
      "loss: 0.7023663360026242\n",
      "loss: 0.697676583474694\n",
      "loss: 0.6923125571751847\n",
      "loss: 0.6912246600235882\n",
      "loss: 0.6915614001942637\n",
      "loss: 0.6917446174619812\n",
      "loss: 0.6915984976324687\n",
      "loss: 0.6916411149604411\n",
      "loss: 0.6914438482531959\n",
      "loss: 0.6914297352165372\n",
      "loss: 0.6915077025007357\n",
      "loss: 0.6915893894589399\n",
      "loss: 0.6914883983740181\n",
      "loss: 0.6915214146197922\n",
      "loss: 0.6914743961289253\n"
     ]
    }
   ],
   "source": [
    "w_train = learn_reg_ERM(X_train,y_train,5)"
   ]
  },
  {
   "cell_type": "code",
   "execution_count": 126,
   "metadata": {},
   "outputs": [
    {
     "data": {
      "text/plain": [
       "0.38749999999999996"
      ]
     },
     "execution_count": 126,
     "metadata": {},
     "output_type": "execute_result"
    }
   ],
   "source": [
    "pred_train = predict(w_train, X_train)\n",
    "zero_one_loss(y_train, pred_train)"
   ]
  },
  {
   "cell_type": "code",
   "execution_count": 127,
   "metadata": {},
   "outputs": [
    {
     "data": {
      "text/plain": [
       "0.12299465240641716"
      ]
     },
     "execution_count": 127,
     "metadata": {},
     "output_type": "execute_result"
    }
   ],
   "source": [
    "pred_test  = predict(w_train, X_test)\n",
    "zero_one_loss(y_test, pred_test)"
   ]
  },
  {
   "cell_type": "markdown",
   "metadata": {},
   "source": [
    "#### 5.2\n",
    "Compare the accuracy of the linear model with the accuracy of a random forest and a decision tree on the training and test data set."
   ]
  },
  {
   "cell_type": "code",
   "execution_count": 129,
   "metadata": {
    "collapsed": true
   },
   "outputs": [
    {
     "data": {
      "text/plain": [
       "0.0625"
      ]
     },
     "metadata": {},
     "output_type": "display_data"
    },
    {
     "data": {
      "text/plain": [
       "0.25668449197860965"
      ]
     },
     "metadata": {},
     "output_type": "display_data"
    }
   ],
   "source": [
    "clf = RandomForestClassifier()\n",
    "clf.fit(X_train, y_train)\n",
    "forest_pred_train = clf.predict(X_train)\n",
    "forest_pred_test  = clf.predict(X_test)\n",
    "display(zero_one_loss(y_train, forest_pred_train))\n",
    "display(zero_one_loss(y_test, forest_pred_test))"
   ]
  },
  {
   "cell_type": "code",
   "execution_count": 133,
   "metadata": {},
   "outputs": [
    {
     "data": {
      "text/plain": [
       "0.0625"
      ]
     },
     "metadata": {},
     "output_type": "display_data"
    },
    {
     "data": {
      "text/plain": [
       "0.3048128342245989"
      ]
     },
     "metadata": {},
     "output_type": "display_data"
    }
   ],
   "source": [
    "clf = DecisionTreeClassifier()\n",
    "clf.fit(X_train, y_train)\n",
    "forest_pred_train = clf.predict(X_train)\n",
    "forest_pred_test  = clf.predict(X_test)\n",
    "display(zero_one_loss(y_train, forest_pred_train))\n",
    "display(zero_one_loss(y_test, forest_pred_test))"
   ]
  },
  {
   "cell_type": "markdown",
   "metadata": {},
   "source": [
    "# Conclusion\n",
    "Apparently the ERM algorithm performs worse on training data, but is way better at predictions based on new data."
   ]
  }
 ],
 "metadata": {
  "kernelspec": {
   "display_name": "Python 3",
   "language": "python",
   "name": "python3"
  },
  "language_info": {
   "codemirror_mode": {
    "name": "ipython",
    "version": 3
   },
   "file_extension": ".py",
   "mimetype": "text/x-python",
   "name": "python",
   "nbconvert_exporter": "python",
   "pygments_lexer": "ipython3",
   "version": "3.6.4"
  }
 },
 "nbformat": 4,
 "nbformat_minor": 2
}
