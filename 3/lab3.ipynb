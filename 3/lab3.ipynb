{
 "cells": [
  {
   "cell_type": "markdown",
   "metadata": {},
   "source": [
    "# Data Preprocessing\n",
    "\n",
    "The goal of this lab is to introduce you to data preprocessing techniques in order to make your data suitable for applying a learning algorithm.\n",
    "\n",
    "## 1. Handling Missing Values\n",
    "\n",
    "A common (and very unfortunate) data property is the ocurrence of missing and erroneous values in multiple features in our dataset.\n",
    "Download the dataset and corresponding information from the <a href=\"http://www.cs.uni-potsdam.de/ml/teaching/ss15/ida/uebung02/abalone.csv\">course website</a>.\n",
    "\n",
    "To determine the age of a abalone snail you have to kill the snail and count the annual\n",
    "rings. You are told to estimate the age of a snail on the basis of the following attributes:\n",
    "1. type: male (0), female (1) and infant (2)\n",
    "2. length in mm\n",
    "3. width in mm\n",
    "4. height in mm\n",
    "5. total weight in grams\n",
    "6. weight of the meat in grams\n",
    "7. drained weight in grams\n",
    "8. weight of the shell in grams\n",
    "9. number of annual rings (number of rings +1, 5 yields age)\n",
    "\n",
    "However, these data is incomplete. Missing values are marked with −1."
   ]
  },
  {
   "cell_type": "code",
   "execution_count": 151,
   "metadata": {
    "scrolled": true
   },
   "outputs": [
    {
     "data": {
      "text/html": [
       "<div>\n",
       "<style scoped>\n",
       "    .dataframe tbody tr th:only-of-type {\n",
       "        vertical-align: middle;\n",
       "    }\n",
       "\n",
       "    .dataframe tbody tr th {\n",
       "        vertical-align: top;\n",
       "    }\n",
       "\n",
       "    .dataframe thead th {\n",
       "        text-align: right;\n",
       "    }\n",
       "</style>\n",
       "<table border=\"1\" class=\"dataframe\">\n",
       "  <thead>\n",
       "    <tr style=\"text-align: right;\">\n",
       "      <th></th>\n",
       "      <th>type</th>\n",
       "      <th>length</th>\n",
       "      <th>width</th>\n",
       "      <th>height</th>\n",
       "      <th>total_weight</th>\n",
       "      <th>meat_weight</th>\n",
       "      <th>drained_weight</th>\n",
       "      <th>shell_weight</th>\n",
       "      <th>num_rings</th>\n",
       "    </tr>\n",
       "  </thead>\n",
       "  <tbody>\n",
       "    <tr>\n",
       "      <th>0</th>\n",
       "      <td>0</td>\n",
       "      <td>0.350</td>\n",
       "      <td>0.265</td>\n",
       "      <td>0.090</td>\n",
       "      <td>0.2255</td>\n",
       "      <td>0.0995</td>\n",
       "      <td>0.0485</td>\n",
       "      <td>0.070</td>\n",
       "      <td>-1</td>\n",
       "    </tr>\n",
       "    <tr>\n",
       "      <th>1</th>\n",
       "      <td>1</td>\n",
       "      <td>0.530</td>\n",
       "      <td>0.420</td>\n",
       "      <td>0.135</td>\n",
       "      <td>0.6770</td>\n",
       "      <td>0.2565</td>\n",
       "      <td>0.1415</td>\n",
       "      <td>0.210</td>\n",
       "      <td>9</td>\n",
       "    </tr>\n",
       "    <tr>\n",
       "      <th>2</th>\n",
       "      <td>0</td>\n",
       "      <td>0.440</td>\n",
       "      <td>0.365</td>\n",
       "      <td>0.125</td>\n",
       "      <td>0.5160</td>\n",
       "      <td>0.2155</td>\n",
       "      <td>0.1140</td>\n",
       "      <td>0.155</td>\n",
       "      <td>10</td>\n",
       "    </tr>\n",
       "    <tr>\n",
       "      <th>3</th>\n",
       "      <td>2</td>\n",
       "      <td>-1.000</td>\n",
       "      <td>0.255</td>\n",
       "      <td>0.080</td>\n",
       "      <td>0.2050</td>\n",
       "      <td>0.0895</td>\n",
       "      <td>0.0395</td>\n",
       "      <td>0.055</td>\n",
       "      <td>7</td>\n",
       "    </tr>\n",
       "    <tr>\n",
       "      <th>4</th>\n",
       "      <td>2</td>\n",
       "      <td>0.425</td>\n",
       "      <td>0.300</td>\n",
       "      <td>0.095</td>\n",
       "      <td>0.3515</td>\n",
       "      <td>0.1410</td>\n",
       "      <td>0.0775</td>\n",
       "      <td>0.120</td>\n",
       "      <td>8</td>\n",
       "    </tr>\n",
       "  </tbody>\n",
       "</table>\n",
       "</div>"
      ],
      "text/plain": [
       "   type  length  width  height  total_weight  meat_weight  drained_weight  \\\n",
       "0     0   0.350  0.265   0.090        0.2255       0.0995          0.0485   \n",
       "1     1   0.530  0.420   0.135        0.6770       0.2565          0.1415   \n",
       "2     0   0.440  0.365   0.125        0.5160       0.2155          0.1140   \n",
       "3     2  -1.000  0.255   0.080        0.2050       0.0895          0.0395   \n",
       "4     2   0.425  0.300   0.095        0.3515       0.1410          0.0775   \n",
       "\n",
       "   shell_weight  num_rings  \n",
       "0         0.070         -1  \n",
       "1         0.210          9  \n",
       "2         0.155         10  \n",
       "3         0.055          7  \n",
       "4         0.120          8  "
      ]
     },
     "execution_count": 151,
     "metadata": {},
     "output_type": "execute_result"
    }
   ],
   "source": [
    "import pandas as pd\n",
    "\n",
    "# load data \n",
    "df = pd.read_csv(\"http://www.cs.uni-potsdam.de/ml/teaching/ss15/ida/uebung02/abalone.csv\")\n",
    "df.columns=['type','length','width','height','total_weight','meat_weight','drained_weight','shell_weight','num_rings']\n",
    "df.head()"
   ]
  },
  {
   "cell_type": "markdown",
   "metadata": {},
   "source": [
    "### Exercise 1.1\n",
    "\n",
    "Compute the mean of all positive numbers of each numeric column and the counts of each category."
   ]
  },
  {
   "cell_type": "code",
   "execution_count": 163,
   "metadata": {
    "collapsed": true
   },
   "outputs": [],
   "source": [
    "import numpy as np\n",
    "# mark -1 as NaN\n",
    "df_nan = df.replace({-1: np.nan}, inplace=False)\n"
   ]
  },
  {
   "cell_type": "code",
   "execution_count": 31,
   "metadata": {},
   "outputs": [
    {
     "data": {
      "text/plain": [
       "0.0    1500\n",
       "2.0    1310\n",
       "1.0    1279\n",
       "Name: type, dtype: int64"
      ]
     },
     "execution_count": 31,
     "metadata": {},
     "output_type": "execute_result"
    }
   ],
   "source": [
    "# counts for categories on dataset with -1 set to nan\n",
    "df_nan['type'].value_counts()"
   ]
  },
  {
   "cell_type": "code",
   "execution_count": 65,
   "metadata": {},
   "outputs": [
    {
     "data": {
      "text/plain": [
       " 0    1500\n",
       " 2    1310\n",
       " 1    1279\n",
       "-1      87\n",
       "Name: type, dtype: int64"
      ]
     },
     "execution_count": 65,
     "metadata": {},
     "output_type": "execute_result"
    }
   ],
   "source": [
    "# counts for categories on dataset \n",
    "df['type'].value_counts()"
   ]
  },
  {
   "cell_type": "code",
   "execution_count": 83,
   "metadata": {},
   "outputs": [
    {
     "name": "stdout",
     "output_type": "stream",
     "text": [
      "length-0.523692\n",
      "width-0.407955\n",
      "height-0.13961\n",
      "total_weight-0.828843\n",
      "meat_weight-0.359263\n",
      "drained_weight-0.180249\n",
      "shell_weight-0.238604\n",
      "num_rings-9.921756\n"
     ]
    }
   ],
   "source": [
    "# means as dict ignoring -1 on a per column basis\n",
    "means = dict()\n",
    "cols = list(df.columns)[1:]\n",
    "for col in cols:\n",
    "    means[col] = df[df[col]>=0].sum()[col]/len(df[df[col]>=0])\n",
    "for k,v in means.items():\n",
    "    print(k+\"-\"+str(round(v,6)))"
   ]
  },
  {
   "cell_type": "code",
   "execution_count": 69,
   "metadata": {},
   "outputs": [
    {
     "data": {
      "text/plain": [
       "length            0.478448\n",
       "width             0.366148\n",
       "height            0.105771\n",
       "total_weight      0.782421\n",
       "meat_weight       0.318576\n",
       "drained_weight    0.149442\n",
       "shell_weight      0.208351\n",
       "num_rings         9.662835\n",
       "dtype: float64"
      ]
     },
     "execution_count": 69,
     "metadata": {},
     "output_type": "execute_result"
    }
   ],
   "source": [
    "# Means also using -1 values. As expected, values are lower because\n",
    "# -1 decreases column sum\n",
    "df[list(df.columns)[1:]].mean()"
   ]
  },
  {
   "cell_type": "code",
   "execution_count": 73,
   "metadata": {},
   "outputs": [
    {
     "data": {
      "text/plain": [
       "length            0.523692\n",
       "width             0.407955\n",
       "height            0.139610\n",
       "total_weight      0.828843\n",
       "meat_weight       0.359263\n",
       "drained_weight    0.180249\n",
       "shell_weight      0.238604\n",
       "num_rings         9.921756\n",
       "dtype: float64"
      ]
     },
     "execution_count": 73,
     "metadata": {},
     "output_type": "execute_result"
    }
   ],
   "source": [
    "# Means without nans\n",
    "means_nan = df_nan[list(df_nan.columns)[1:]].mean()\n",
    "means_nan\n"
   ]
  },
  {
   "cell_type": "code",
   "execution_count": 82,
   "metadata": {},
   "outputs": [
    {
     "data": {
      "text/plain": [
       "False"
      ]
     },
     "execution_count": 82,
     "metadata": {},
     "output_type": "execute_result"
    }
   ],
   "source": [
    "#fails bc trailing zero is removed by round but not by pd.df.mean()\n",
    "all([round(means[col],6) == means_nan[col] for col in cols])\n",
    "# Anyway, we see that mean() does not discard the whole row if one value in it is\n",
    "# na, but examines every row individually."
   ]
  },
  {
   "cell_type": "markdown",
   "metadata": {},
   "source": [
    "### Exercise 1.2\n",
    "\n",
    "Compute the median of all positive numbers of each numeric column."
   ]
  },
  {
   "cell_type": "code",
   "execution_count": 84,
   "metadata": {
    "collapsed": true
   },
   "outputs": [
    {
     "data": {
      "text/plain": [
       "length            0.54500\n",
       "width             0.42500\n",
       "height            0.14000\n",
       "total_weight      0.80175\n",
       "meat_weight       0.33600\n",
       "drained_weight    0.17050\n",
       "shell_weight      0.23350\n",
       "num_rings         9.00000\n",
       "dtype: float64"
      ]
     },
     "execution_count": 84,
     "metadata": {},
     "output_type": "execute_result"
    }
   ],
   "source": [
    "# meadian of all numeric colums without nans\n",
    "df_nan[list(df_nan.columns)[1:]].median()"
   ]
  },
  {
   "cell_type": "markdown",
   "metadata": {},
   "source": [
    "### Exercise 1.3\n",
    "\n",
    "Handle the missing values in a way that you find suitable. Argue your choices."
   ]
  },
  {
   "cell_type": "code",
   "execution_count": 91,
   "metadata": {
    "collapsed": true
   },
   "outputs": [
    {
     "data": {
      "text/plain": [
       "{'drained_weight': 2.6801081878534543,\n",
       " 'height': 3.0602171767028628,\n",
       " 'length': 3.0602171767028628,\n",
       " 'meat_weight': 3.085657862256233,\n",
       " 'num_rings': 2.4282560706401766,\n",
       " 'shell_weight': 2.503681885125184,\n",
       " 'total_weight': 2.6044226044226044,\n",
       " 'type': 2.127659574468085,\n",
       " 'width': 3.0602171767028628}"
      ]
     },
     "execution_count": 91,
     "metadata": {},
     "output_type": "execute_result"
    }
   ],
   "source": [
    "#create empty dict\n",
    "na_ratio = dict()\n",
    "#for every column, compute the ratio of values vs nan\n",
    "for col in df.columns:\n",
    "    na_ratio[col] = len(df[df[col]< 0])/len(df[df[col]>= 0])*100\n",
    "    \n",
    "na_ratio\n",
    "# Between 2 and 3 % of the values in each column are missing."
   ]
  },
  {
   "cell_type": "code",
   "execution_count": 121,
   "metadata": {},
   "outputs": [
    {
     "name": "stdout",
     "output_type": "stream",
     "text": [
      "Populating the interactive namespace from numpy and matplotlib\n"
     ]
    },
    {
     "data": {
      "text/plain": [
       "0.0         AxesSubplot(0.1,0.559091;0.363636x0.340909)\n",
       "1.0    AxesSubplot(0.536364,0.559091;0.363636x0.340909)\n",
       "2.0             AxesSubplot(0.1,0.15;0.363636x0.340909)\n",
       "dtype: object"
      ]
     },
     "execution_count": 121,
     "metadata": {},
     "output_type": "execute_result"
    },
    {
     "data": {
      "image/png": "[encoded data removed]",
      "text/plain": [
       "<matplotlib.figure.Figure at 0x7fe69b2cb2e8>"
      ]
     },
     "metadata": {},
     "output_type": "display_data"
    },
    {
     "data": {
      "image/png": "[encoded data removed]",
      "text/plain": [
       "<matplotlib.figure.Figure at 0x7fe69b065d68>"
      ]
     },
     "metadata": {},
     "output_type": "display_data"
    }
   ],
   "source": [
    "# We could simply decide that the portion of missing data is small enough to\n",
    "# just be discarded without compromising the quality of our dataset.\n",
    "# Or we pursue the following course of action. \n",
    "# 1. Group the data according to type. We can simply leave the type -1 as is and treat it \n",
    "# as another group or discard all rows with type == -1. \n",
    "# 2. We can now compute the mean/meadian for each\n",
    "# group and substitute missing values with the mean for each respective group. The sample size is\n",
    "# rather big, therefore the sample mean should be near the population mean. We simply assume that\n",
    "# the data is distributed accordingly, but could as well test whether our assumption is correct. \n",
    "# We group the data because we assume that there is small intra and greater inter group variance\n",
    "# We could check this as well. Additionally, we check each column for outliers. If there are heavy\n",
    "# Outliers present, we use the median instead of the mean because the median is a more robust\n",
    "# statistic.\n",
    "%pylab inline\n",
    "pylab.rcParams['figure.figsize'] = (20, 20)\n",
    "cols = df_nan.columns\n",
    "# plot without rings bc scaling\n",
    "df_nan[cols[1:-1]].groupby(df_nan['type']).boxplot()\n",
    "# plot with rings because only rings does not work for some reason\n",
    "#df_nan[cols[-1]].groupby(df_nan['type']).boxplot()\n",
    "df_nan.groupby(df_nan['type']).boxplot()"
   ]
  },
  {
   "cell_type": "code",
   "execution_count": 170,
   "metadata": {},
   "outputs": [
    {
     "data": {
      "text/html": [
       "<div>\n",
       "<style scoped>\n",
       "    .dataframe tbody tr th:only-of-type {\n",
       "        vertical-align: middle;\n",
       "    }\n",
       "\n",
       "    .dataframe tbody tr th {\n",
       "        vertical-align: top;\n",
       "    }\n",
       "\n",
       "    .dataframe thead th {\n",
       "        text-align: right;\n",
       "    }\n",
       "</style>\n",
       "<table border=\"1\" class=\"dataframe\">\n",
       "  <thead>\n",
       "    <tr style=\"text-align: right;\">\n",
       "      <th></th>\n",
       "      <th>width</th>\n",
       "      <th>height</th>\n",
       "      <th>total_weight</th>\n",
       "      <th>meat_weight</th>\n",
       "      <th>drained_weight</th>\n",
       "      <th>shell_weight</th>\n",
       "      <th>num_rings</th>\n",
       "    </tr>\n",
       "    <tr>\n",
       "      <th>type</th>\n",
       "      <th></th>\n",
       "      <th></th>\n",
       "      <th></th>\n",
       "      <th></th>\n",
       "      <th></th>\n",
       "      <th></th>\n",
       "      <th></th>\n",
       "    </tr>\n",
       "  </thead>\n",
       "  <tbody>\n",
       "    <tr>\n",
       "      <th>-1</th>\n",
       "      <td>0.405</td>\n",
       "      <td>0.135</td>\n",
       "      <td>0.71700</td>\n",
       "      <td>0.28800</td>\n",
       "      <td>0.15225</td>\n",
       "      <td>0.2115</td>\n",
       "      <td>9.0</td>\n",
       "    </tr>\n",
       "    <tr>\n",
       "      <th>0</th>\n",
       "      <td>0.455</td>\n",
       "      <td>0.155</td>\n",
       "      <td>0.97450</td>\n",
       "      <td>0.42150</td>\n",
       "      <td>0.21050</td>\n",
       "      <td>0.2760</td>\n",
       "      <td>10.0</td>\n",
       "    </tr>\n",
       "    <tr>\n",
       "      <th>1</th>\n",
       "      <td>0.465</td>\n",
       "      <td>0.160</td>\n",
       "      <td>1.04050</td>\n",
       "      <td>0.44200</td>\n",
       "      <td>0.22400</td>\n",
       "      <td>0.2950</td>\n",
       "      <td>10.0</td>\n",
       "    </tr>\n",
       "    <tr>\n",
       "      <th>2</th>\n",
       "      <td>0.335</td>\n",
       "      <td>0.110</td>\n",
       "      <td>0.38525</td>\n",
       "      <td>0.16875</td>\n",
       "      <td>0.08000</td>\n",
       "      <td>0.1130</td>\n",
       "      <td>8.0</td>\n",
       "    </tr>\n",
       "  </tbody>\n",
       "</table>\n",
       "</div>"
      ],
      "text/plain": [
       "      width  height  total_weight  meat_weight  drained_weight  shell_weight  \\\n",
       "type                                                                           \n",
       "-1    0.405   0.135       0.71700      0.28800         0.15225        0.2115   \n",
       " 0    0.455   0.155       0.97450      0.42150         0.21050        0.2760   \n",
       " 1    0.465   0.160       1.04050      0.44200         0.22400        0.2950   \n",
       " 2    0.335   0.110       0.38525      0.16875         0.08000        0.1130   \n",
       "\n",
       "      num_rings  \n",
       "type             \n",
       "-1          9.0  \n",
       " 0         10.0  \n",
       " 1         10.0  \n",
       " 2          8.0  "
      ]
     },
     "execution_count": 170,
     "metadata": {},
     "output_type": "execute_result"
    }
   ],
   "source": [
    "# All have outliers, hence we use the median to fill in the gaps\n",
    "#grouped = df_nan.groupby(df_nan['type'])#, as_index=False)\n",
    "#grouped.median()\n",
    "#df_nan.fillna(grouped.median())\n",
    "#df.groupby(\"name\").transform(lambda x: x.fillna(x.mean()))\n",
    "#grouped.transform(lambda x: x.fillna(x.median()))\n",
    "# The transform operation fails, because there is nas in the group vector as well..\n",
    "df_nan2 = df[cols[2:]].replace({-1: np.nan}, inplace=False)\n",
    "df_nan2 = pd.concat([df['type'], df_nan2], axis=1)\n",
    "grouped2 = df_nan2.groupby(df_nan2['type'])\n",
    "grouped2.median()\n",
    "#\n",
    "\n"
   ]
  },
  {
   "cell_type": "code",
   "execution_count": 184,
   "metadata": {},
   "outputs": [
    {
     "data": {
      "text/html": [
       "<div>\n",
       "<style scoped>\n",
       "    .dataframe tbody tr th:only-of-type {\n",
       "        vertical-align: middle;\n",
       "    }\n",
       "\n",
       "    .dataframe tbody tr th {\n",
       "        vertical-align: top;\n",
       "    }\n",
       "\n",
       "    .dataframe thead th {\n",
       "        text-align: right;\n",
       "    }\n",
       "</style>\n",
       "<table border=\"1\" class=\"dataframe\">\n",
       "  <thead>\n",
       "    <tr style=\"text-align: right;\">\n",
       "      <th></th>\n",
       "      <th>type</th>\n",
       "      <th>width</th>\n",
       "      <th>height</th>\n",
       "      <th>total_weight</th>\n",
       "      <th>meat_weight</th>\n",
       "      <th>drained_weight</th>\n",
       "      <th>shell_weight</th>\n",
       "      <th>num_rings</th>\n",
       "    </tr>\n",
       "  </thead>\n",
       "  <tbody>\n",
       "    <tr>\n",
       "      <th>0</th>\n",
       "      <td>0</td>\n",
       "      <td>0.265</td>\n",
       "      <td>0.090</td>\n",
       "      <td>0.2255</td>\n",
       "      <td>0.0995</td>\n",
       "      <td>0.0485</td>\n",
       "      <td>0.070</td>\n",
       "      <td>10.0</td>\n",
       "    </tr>\n",
       "    <tr>\n",
       "      <th>1</th>\n",
       "      <td>1</td>\n",
       "      <td>0.420</td>\n",
       "      <td>0.135</td>\n",
       "      <td>0.6770</td>\n",
       "      <td>0.2565</td>\n",
       "      <td>0.1415</td>\n",
       "      <td>0.210</td>\n",
       "      <td>9.0</td>\n",
       "    </tr>\n",
       "    <tr>\n",
       "      <th>2</th>\n",
       "      <td>0</td>\n",
       "      <td>0.365</td>\n",
       "      <td>0.125</td>\n",
       "      <td>0.5160</td>\n",
       "      <td>0.2155</td>\n",
       "      <td>0.1140</td>\n",
       "      <td>0.155</td>\n",
       "      <td>10.0</td>\n",
       "    </tr>\n",
       "    <tr>\n",
       "      <th>3</th>\n",
       "      <td>2</td>\n",
       "      <td>0.255</td>\n",
       "      <td>0.080</td>\n",
       "      <td>0.2050</td>\n",
       "      <td>0.0895</td>\n",
       "      <td>0.0395</td>\n",
       "      <td>0.055</td>\n",
       "      <td>7.0</td>\n",
       "    </tr>\n",
       "    <tr>\n",
       "      <th>4</th>\n",
       "      <td>2</td>\n",
       "      <td>0.300</td>\n",
       "      <td>0.095</td>\n",
       "      <td>0.3515</td>\n",
       "      <td>0.1410</td>\n",
       "      <td>0.0775</td>\n",
       "      <td>0.120</td>\n",
       "      <td>8.0</td>\n",
       "    </tr>\n",
       "  </tbody>\n",
       "</table>\n",
       "</div>"
      ],
      "text/plain": [
       "   type  width  height  total_weight  meat_weight  drained_weight  \\\n",
       "0     0  0.265   0.090        0.2255       0.0995          0.0485   \n",
       "1     1  0.420   0.135        0.6770       0.2565          0.1415   \n",
       "2     0  0.365   0.125        0.5160       0.2155          0.1140   \n",
       "3     2  0.255   0.080        0.2050       0.0895          0.0395   \n",
       "4     2  0.300   0.095        0.3515       0.1410          0.0775   \n",
       "\n",
       "   shell_weight  num_rings  \n",
       "0         0.070       10.0  \n",
       "1         0.210        9.0  \n",
       "2         0.155       10.0  \n",
       "3         0.055        7.0  \n",
       "4         0.120        8.0  "
      ]
     },
     "execution_count": 184,
     "metadata": {},
     "output_type": "execute_result"
    }
   ],
   "source": [
    "# transform and replace nan with group median for each group\n",
    "transformed = grouped2.transform(lambda x: x.fillna(x.median()))\n",
    "# re add type\n",
    "df_new = pd.concat([df['type'], transformed], axis =1)\n",
    "# voila\n",
    "df_new.head()"
   ]
  },
  {
   "cell_type": "markdown",
   "metadata": {},
   "source": [
    "### Exercise 1.4\n",
    "\n",
    "Perform Z-score normalization on every column (except the type of course!)"
   ]
  },
  {
   "cell_type": "code",
   "execution_count": 186,
   "metadata": {
    "collapsed": true
   },
   "outputs": [
    {
     "data": {
      "text/html": [
       "<div>\n",
       "<style scoped>\n",
       "    .dataframe tbody tr th:only-of-type {\n",
       "        vertical-align: middle;\n",
       "    }\n",
       "\n",
       "    .dataframe tbody tr th {\n",
       "        vertical-align: top;\n",
       "    }\n",
       "\n",
       "    .dataframe thead th {\n",
       "        text-align: right;\n",
       "    }\n",
       "</style>\n",
       "<table border=\"1\" class=\"dataframe\">\n",
       "  <thead>\n",
       "    <tr style=\"text-align: right;\">\n",
       "      <th></th>\n",
       "      <th>width</th>\n",
       "      <th>height</th>\n",
       "      <th>total_weight</th>\n",
       "      <th>meat_weight</th>\n",
       "      <th>drained_weight</th>\n",
       "      <th>shell_weight</th>\n",
       "      <th>num_rings</th>\n",
       "    </tr>\n",
       "  </thead>\n",
       "  <tbody>\n",
       "    <tr>\n",
       "      <th>0</th>\n",
       "      <td>-2.084683</td>\n",
       "      <td>-1.801607</td>\n",
       "      <td>-1.638263</td>\n",
       "      <td>-1.508017</td>\n",
       "      <td>-1.613170</td>\n",
       "      <td>-1.631461</td>\n",
       "      <td>-0.235711</td>\n",
       "    </tr>\n",
       "    <tr>\n",
       "      <th>1</th>\n",
       "      <td>-0.501942</td>\n",
       "      <td>-0.587452</td>\n",
       "      <td>-0.879010</td>\n",
       "      <td>-0.977703</td>\n",
       "      <td>-0.925008</td>\n",
       "      <td>-0.741188</td>\n",
       "      <td>-0.681718</td>\n",
       "    </tr>\n",
       "    <tr>\n",
       "      <th>2</th>\n",
       "      <td>-0.890547</td>\n",
       "      <td>-0.780619</td>\n",
       "      <td>-1.016722</td>\n",
       "      <td>-0.983680</td>\n",
       "      <td>-0.979458</td>\n",
       "      <td>-0.976267</td>\n",
       "      <td>-0.235711</td>\n",
       "    </tr>\n",
       "    <tr>\n",
       "      <th>3</th>\n",
       "      <td>-0.827752</td>\n",
       "      <td>-0.895606</td>\n",
       "      <td>-0.799878</td>\n",
       "      <td>-0.791114</td>\n",
       "      <td>-0.843542</td>\n",
       "      <td>-0.868110</td>\n",
       "      <td>-0.355234</td>\n",
       "    </tr>\n",
       "    <tr>\n",
       "      <th>4</th>\n",
       "      <td>-0.310407</td>\n",
       "      <td>-0.418354</td>\n",
       "      <td>-0.285539</td>\n",
       "      <td>-0.386702</td>\n",
       "      <td>-0.233094</td>\n",
       "      <td>-0.097135</td>\n",
       "      <td>0.046282</td>\n",
       "    </tr>\n",
       "  </tbody>\n",
       "</table>\n",
       "</div>"
      ],
      "text/plain": [
       "      width    height  total_weight  meat_weight  drained_weight  \\\n",
       "0 -2.084683 -1.801607     -1.638263    -1.508017       -1.613170   \n",
       "1 -0.501942 -0.587452     -0.879010    -0.977703       -0.925008   \n",
       "2 -0.890547 -0.780619     -1.016722    -0.983680       -0.979458   \n",
       "3 -0.827752 -0.895606     -0.799878    -0.791114       -0.843542   \n",
       "4 -0.310407 -0.418354     -0.285539    -0.386702       -0.233094   \n",
       "\n",
       "   shell_weight  num_rings  \n",
       "0     -1.631461  -0.235711  \n",
       "1     -0.741188  -0.681718  \n",
       "2     -0.976267  -0.235711  \n",
       "3     -0.868110  -0.355234  \n",
       "4     -0.097135   0.046282  "
      ]
     },
     "execution_count": 186,
     "metadata": {},
     "output_type": "execute_result"
    }
   ],
   "source": [
    "# Indicates how many standard deviations away from the mean the value is.\n",
    "# If we replaced nan with mean instead of median the z score would be 0\n",
    "# there because (mean - mean) / std = 0\n",
    "zscore = lambda x: (x - x.mean()) / x.std()\n",
    "\n",
    "z_trans = df_new.groupby(df['type'])[cols[2:]].transform(zscore)\n",
    "z_trans.head()\n"
   ]
  },
  {
   "cell_type": "markdown",
   "metadata": {},
   "source": [
    "## 2. Preprocessing text (Optional)\n",
    "\n",
    "One possible way to transform text documents into vectors of numeric attributes is to use the TF-IDF representation. We will experiment with this representation using the 20 Newsgroup data set. The data set contains postings on 20 different topics. The classification problem is to decide which of the topics a posting falls into. Here, we will only consider postings about medicine and space."
   ]
  },
  {
   "cell_type": "code",
   "execution_count": 188,
   "metadata": {},
   "outputs": [
    {
     "name": "stderr",
     "output_type": "stream",
     "text": [
      "Downloading 20news dataset. This may take a few minutes.\n",
      "Downloading dataset from https://ndownloader.figshare.com/files/5975967 (14 MB)\n"
     ]
    },
    {
     "name": "stdout",
     "output_type": "stream",
     "text": [
      "The index of each category is: [(0, 'sci.med'), (1, 'sci.space')]\n"
     ]
    }
   ],
   "source": [
    "from sklearn.datasets import fetch_20newsgroups\n",
    "\n",
    "categories = ['sci.med', 'sci.space']\n",
    "raw_data = fetch_20newsgroups(subset='train', categories=categories, shuffle=True, random_state=42)\n",
    "print('The index of each category is: {}'.format([(i,target) for i,target in enumerate(raw_data.target_names)]))"
   ]
  },
  {
   "cell_type": "markdown",
   "metadata": {},
   "source": [
    "Check out some of the postings, might find some funny ones!"
   ]
  },
  {
   "cell_type": "code",
   "execution_count": 189,
   "metadata": {},
   "outputs": [
    {
     "name": "stdout",
     "output_type": "stream",
     "text": [
      "This is a sci.med email.\n",
      "\n",
      "There are 1187 emails.\n",
      "\n",
      "From: geb@cs.pitt.edu (Gordon Banks)\n",
      "Subject: Re: Mississippi River water and catfish: safe?\n",
      "Reply-To: geb@cs.pitt.edu (Gordon Banks)\n",
      "Distribution: usa\n",
      "Organization: Univ. of Pittsburgh Computer Science\n",
      "Lines: 18\n",
      "\n",
      "In article <1993Apr12.204033.126645@zeus.calpoly.edu> dfield@flute.calpoly.edu (InfoSpunj (Dan Field)) writes:\n",
      ">I've been invited to spend a couple weeks this summer rafting down the\n",
      ">Mississippi.  My journey partners want to live off of river water and\n",
      ">catfish along the route.  Should I have any concerns about pollution or\n",
      ">health risks in doing this?\n",
      "\n",
      "You'd have to purify the river water first.  I'm not sure how practical\n",
      "that is with the Mississippi.  You'd better check with health agencies\n",
      "along the way to see if there are toxic chemicals in the river.  If\n",
      "it is just microorganisms, those can be filtered or killed, but you\n",
      "may need activated charcoal or other means to purify from chemicals.\n",
      "Better be same than sorry.  Obviously, drinking the river without\n",
      "processing it is likely to make you sick from bacteria and parasites.\n",
      "-- \n",
      "----------------------------------------------------------------------------\n",
      "Gordon Banks  N3JXP      | \"Skepticism is the chastity of the intellect, and\n",
      "geb@cadre.dsl.pitt.edu   |  it is shameful to surrender it too soon.\" \n",
      "----------------------------------------------------------------------------\n",
      "\n"
     ]
    }
   ],
   "source": [
    "idx = np.random.randint(0, len(raw_data.data))\n",
    "print('This is a {} email.\\n'.format(raw_data.target_names[raw_data.target[idx]]))\n",
    "print('There are {} emails.\\n'.format(len(raw_data.data)))\n",
    "print(raw_data.data[idx])"
   ]
  },
  {
   "cell_type": "markdown",
   "metadata": {},
   "source": [
    "Lets pick the first 10 postings from each category"
   ]
  },
  {
   "cell_type": "code",
   "execution_count": 190,
   "metadata": {
    "collapsed": true
   },
   "outputs": [],
   "source": [
    "idxs_med = np.flatnonzero(raw_data.target == 0)\n",
    "idxs_space = np.flatnonzero(raw_data.target == 1)\n",
    "idxs = np.concatenate([idxs_med[:10],idxs_space[:10]])\n",
    "data = np.array(raw_data.data)\n",
    "data = data[idxs]"
   ]
  },
  {
   "cell_type": "markdown",
   "metadata": {},
   "source": [
    "<a href=\"http://www.nltk.org/\">NLTK</a> is a toolkit for natural language processing. Take some time to install it and go through this <a href=\"http://www.slideshare.net/japerk/nltk-in-20-minutes\">short tutorial/presentation</a>.\n",
    "\n",
    "The downloaded package below is a tokenizer that divides a text into a list of sentences, by using an unsupervised algorithm to build a model for abbreviation words, collocations, and words that start sentences."
   ]
  },
  {
   "cell_type": "code",
   "execution_count": 191,
   "metadata": {},
   "outputs": [
    {
     "name": "stdout",
     "output_type": "stream",
     "text": [
      "[nltk_data] Downloading package punkt to /home/kurt/nltk_data...\n",
      "[nltk_data]   Unzipping tokenizers/punkt.zip.\n"
     ]
    }
   ],
   "source": [
    "import nltk\n",
    "import itertools\n",
    "nltk.download('punkt')\n",
    "\n",
    "# Tokenize the sentences into words\n",
    "tokenized_sentences = [nltk.word_tokenize(sent) for sent in data]\n",
    "vocabulary_size = 1000\n",
    "unknown_token = 'unknown'"
   ]
  },
  {
   "cell_type": "code",
   "execution_count": 192,
   "metadata": {},
   "outputs": [
    {
     "name": "stdout",
     "output_type": "stream",
     "text": [
      "Found 1641 unique words tokens.\n"
     ]
    }
   ],
   "source": [
    "# Count the word frequencies\n",
    "word_freq = nltk.FreqDist(itertools.chain(*tokenized_sentences))\n",
    "print(\"Found %d unique words tokens.\" % len(word_freq.items()))"
   ]
  },
  {
   "cell_type": "code",
   "execution_count": 193,
   "metadata": {},
   "outputs": [
    {
     "name": "stdout",
     "output_type": "stream",
     "text": [
      "Using vocabulary size 1000.\n",
      "The least frequent word in our vocabulary is 'REASONS' and appeared 1 times.\n"
     ]
    }
   ],
   "source": [
    "# Get the most common words and build index_to_word and word_to_index vectors\n",
    "vocab = word_freq.most_common(vocabulary_size-1)\n",
    "index_to_word = [x[0] for x in vocab]\n",
    "index_to_word.append(unknown_token)\n",
    "word_to_index = dict([(w,i) for i,w in enumerate(index_to_word)])\n",
    " \n",
    "print(\"Using vocabulary size %d.\" % vocabulary_size)\n",
    "print(\"The least frequent word in our vocabulary is '%s' and appeared %d times.\" % (vocab[-1][0], vocab[-1][1]))"
   ]
  },
  {
   "cell_type": "markdown",
   "metadata": {},
   "source": [
    "### Exercise 2.1\n",
    "\n",
    "Code your own TF-IDF representation function and use it on this dataset. (Don't use code from libraries. Build your own function with Numpy/Pandas)"
   ]
  },
  {
   "cell_type": "code",
   "execution_count": 197,
   "metadata": {
    "collapsed": true
   },
   "outputs": [],
   "source": [
    "from sklearn.feature_extraction.text import CountVectorizer\n",
    "countvec = CountVectorizer()\n",
    "df = pd.DataFrame(countvec.fit_transform(data).toarray(), columns=countvec.get_feature_names())\n",
    "\n",
    "def tfidf(df):\n",
    "    pass\n",
    "    '''\n",
    "    Dont have time to code, but heres some of the basic steps\n",
    "    1. For each document\n",
    "    1.1 Split on space\n",
    "    1.2 Strip interpunction and other stuff we dont need\n",
    "    1.3 Get most common words\n",
    "    1.4 Think of something smart to lets say count the plural or singular version of a word as the same (is this necessary?)\n",
    "    1.5 Compute term frequency and inverse document frequency\n",
    "    2. Put everything into a nice data frame where a row represents a document and the columns represent the words.\n",
    "    '''\n",
    "    \n",
    "    #return rep\n",
    "\n",
    "rep = tfidf(df)\n",
    "\n",
    "# Check if your implementation is correct\n",
    "from sklearn.feature_extraction.text import TfidfVectorizer\n",
    "vectorizer = TfidfVectorizer(norm=None, smooth_idf=False, use_idf=True)\n",
    "X_train = pd.DataFrame(vectorizer.fit_transform(data).toarray(), columns=countvec.get_feature_names()\n",
    "answer=['No','Yes']\n",
    "if rep is not None:\n",
    "    print('Is this implementation correct?\\nAnswer: {}'.format(answer[1*np.all(X_train == rep)]))"
   ]
  },
  {
   "cell_type": "code",
   "execution_count": null,
   "metadata": {
    "collapsed": true
   },
   "outputs": [],
   "source": []
  }
 ],
 "metadata": {
  "kernelspec": {
   "display_name": "Python [default]",
   "language": "python",
   "name": "python3"
  },
  "language_info": {
   "codemirror_mode": {
    "name": "ipython",
    "version": 3
   },
   "file_extension": ".py",
   "mimetype": "text/x-python",
   "name": "python",
   "nbconvert_exporter": "python",
   "pygments_lexer": "ipython3",
   "version": "3.6.4"
  }
 },
 "nbformat": 4,
 "nbformat_minor": 2
}
